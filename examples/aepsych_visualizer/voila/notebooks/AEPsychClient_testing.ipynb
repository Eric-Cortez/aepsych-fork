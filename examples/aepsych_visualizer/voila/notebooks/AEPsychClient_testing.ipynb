{
 "cells": [
  {
   "cell_type": "markdown",
   "id": "664eef02",
   "metadata": {},
   "source": [
    "## New "
   ]
  },
  {
   "cell_type": "code",
   "execution_count": 122,
   "id": "723d7eca",
   "metadata": {
    "scrolled": true
   },
   "outputs": [
    {
     "name": "stderr",
     "output_type": "stream",
     "text": [
      "2022-10-24 18:02:05,002 [INFO   ] No DB found at ./databases/default.db, creating a new DB!\n",
      "2022-10-24 18:02:05,030 [INFO   ] Received msg [setup]\n",
      "2022-10-24 18:02:05,043 [INFO   ] Received msg [setup]\n",
      "2022-10-24 18:02:05,055 [INFO   ] Received msg [setup]\n",
      "2022-10-24 18:02:05,062 [INFO   ] Received msg [ask]\n",
      "2022-10-24 18:02:05,062 [INFO   ] Received msg [tell]\n",
      "2022-10-24 18:02:05,069 [INFO   ] Received msg [ask]\n",
      "2022-10-24 18:02:05,070 [INFO   ] Received msg [tell]\n",
      "2022-10-24 18:02:05,077 [INFO   ] Received msg [ask]\n",
      "2022-10-24 18:02:05,078 [INFO   ] Received msg [tell]\n",
      "2022-10-24 18:02:05,084 [INFO   ] Received msg [ask]\n",
      "2022-10-24 18:02:05,084 [INFO   ] Received msg [tell]\n",
      "2022-10-24 18:02:05,092 [INFO   ] Received msg [ask]\n",
      "2022-10-24 18:02:05,092 [INFO   ] Received msg [tell]\n",
      "2022-10-24 18:02:05,098 [INFO   ] Received msg [ask]\n",
      "2022-10-24 18:02:05,099 [INFO   ] Received msg [tell]\n",
      "2022-10-24 18:02:05,105 [INFO   ] Received msg [ask]\n",
      "2022-10-24 18:02:05,105 [INFO   ] Received msg [tell]\n",
      "2022-10-24 18:02:05,112 [INFO   ] Received msg [ask]\n",
      "2022-10-24 18:02:05,112 [INFO   ] Received msg [tell]\n",
      "2022-10-24 18:02:05,118 [INFO   ] Received msg [resume]\n"
     ]
    },
    {
     "name": "stdout",
     "output_type": "stream",
     "text": [
      "[0, 1, 2] {'config1': 0, 'config2': 1, 'config3': 2}\n",
      "Exp_ids ==> ['859e4a68-88f0-4db9-adb6-750d3be5ed0f']\n",
      "['common', 'init_strat', 'opt_strat']\n",
      "Database config list ==>  common\n"
     ]
    }
   ],
   "source": [
    "from aepsych.server import AEPsychServer\n",
    "from aepsych_client import AEPsychClient\n",
    "\n",
    "\n",
    "\n",
    "server = AEPsychServer()\n",
    "client = AEPsychClient(server=server)\n",
    "\n",
    "# start server first in Downloads/aepsych\n",
    "# aepsych_server --ip 0.0.0.0 --port 5555 database --db data_collection_analysis_tutorial.db\n",
    "# client = AEPsychClient(ip=\"0.0.0.0\", port=5555)\n",
    "\n",
    "config_str = \"\"\"\n",
    "[common]\n",
    "parnames = [theta] # names of the parameters\n",
    "lb = [0.1] # lower bound of the parameter\n",
    "ub = [5] # upper bound of parameter\n",
    "stimuli_per_trial = 1 # the number of stimuli shown in each trial; 1 for single, or 2 for pairwise experiments\n",
    "outcome_types = [binary] # the type of response given by the participant; can be [binary] or [continuous]\n",
    "target = 0.75 # desired threshold, for threshold estimation.\n",
    "strategy_names = [init_strat, opt_strat] # The strategies that will be used, corresponding to the named sections below\n",
    "\n",
    "# Configuration for the initialization strategy, which we use to gather initial points\n",
    "# before we start doing model-based acquisition\n",
    "[init_strat]\n",
    "min_total_tells = 3 # number of sobol trials to run\n",
    "generator = SobolGenerator # The generator class used to generate new parameter values\n",
    "\n",
    "# Configuration for the optimization strategy, our model-based acquisition\n",
    "[opt_strat]\n",
    "min_total_tells = 5 # total number of trials to run\n",
    "refit_every = 2 # how often to refit the model from scratch\n",
    "generator = OptimizeAcqfGenerator # The generator class used to generate new parameter values\n",
    "acqf = MCLevelSetEstimation # The acquisition function; MCLevelSetEstimation is used for threshold finding\n",
    "model = GPClassificationModel # The model class\n",
    "\"\"\"\n",
    "\n",
    "client.configure(config_str=config_str, config_name=\"config1\") # need to add input for config_name\n",
    "client.configure(config_str=config_str, config_name=\"config2\")\n",
    "client.configure(config_str=config_str, config_name=\"config3\")\n",
    "print(client.configs, client.config_names)\n",
    "\n",
    "exp_ids = [rec.experiment_id for rec in server.db.get_master_records()]\n",
    "print(\"Exp_ids ==>\",exp_ids)\n",
    "print([strat for strat in server.db.get_config_for(master_id=exp_ids[0])])\n",
    "\n",
    "\n",
    "exp_configs  = [rec for rec in server.db.get_config_for(exp_ids[0])]\n",
    "\n",
    "print(\"Database config list ==> \", exp_configs[0])\n",
    "\n",
    "\n",
    "client.ask()\n",
    "\n",
    "client.tell(config={'theta':[.1]}, outcome=0, target_side='right')\n",
    "\n",
    "client.ask()\n",
    "\n",
    "client.tell(config={'theta':[.1]}, outcome=0, target_side='right')\n",
    "\n",
    "client.ask()\n",
    "\n",
    "client.tell(config={'theta':[.1]}, outcome=0, target_side='right')\n",
    "\n",
    "client.ask()\n",
    "\n",
    "client.tell(config={'theta':[.1]}, outcome=0, target_side='right')\n",
    "\n",
    "client.ask()\n",
    "\n",
    "client.tell(config={'theta':[.1]}, outcome=0, target_side='right')\n",
    "\n",
    "client.ask()\n",
    "\n",
    "client.tell(config={'theta':[.1]}, outcome=0, target_side='right')\n",
    "\n",
    "client.ask()\n",
    "\n",
    "client.tell(config={'theta':[.1]}, outcome=0, target_side='right')\n",
    "\n",
    "client.ask()\n",
    "\n",
    "client.tell(config={'theta':[.1]}, outcome=0, target_side='right')\n",
    "\n",
    "configs = client.configs[0]\n",
    "\n",
    "client.resume(config_id = configs)\n"
   ]
  },
  {
   "cell_type": "markdown",
   "id": "6710059c",
   "metadata": {},
   "source": [
    "## Resume "
   ]
  },
  {
   "cell_type": "code",
   "execution_count": 123,
   "id": "34ca3e3b",
   "metadata": {},
   "outputs": [
    {
     "name": "stderr",
     "output_type": "stream",
     "text": [
      "2022-10-24 18:02:05,124 [INFO   ] Found DB at /Users/ecortez/Work/aepsych-fork/examples/aepsych_visualizer/voila/notebooks/databases/default.db, appending!\n"
     ]
    },
    {
     "name": "stdout",
     "output_type": "stream",
     "text": [
      "Exp_ids ==> ['859e4a68-88f0-4db9-adb6-750d3be5ed0f']\n",
      "[] {}\n",
      "[0, 1, 2]\n"
     ]
    }
   ],
   "source": [
    "from aepsych.server import AEPsychServer\n",
    "from aepsych_client import AEPsychClient\n",
    "import os\n",
    "\n",
    "path = os.getcwd() + \"/databases/default.db\"\n",
    "\n",
    "server = AEPsychServer(database_path=path)\n",
    "client = AEPsychClient(server=server)\n",
    "\n",
    "\n",
    "exp_ids = [rec.experiment_id for rec in server.db.get_master_records()]\n",
    "print(\"Exp_ids ==>\",exp_ids)\n",
    "print(client.configs, client.config_names)\n",
    "config_arr = []\n",
    "\n",
    "if len(exp_ids):\n",
    "    db_config_list = [config for config in server.db.get_config_for(master_id=exp_ids[-1])]\n",
    "    for i in range(len(db_config_list)):\n",
    "        config_arr.append(i)\n",
    "        \n",
    "    print(config_arr)\n",
    "\n",
    "\n",
    "# client.resume(config_id = client.configs)\n",
    "\n",
    "\n"
   ]
  },
  {
   "cell_type": "code",
   "execution_count": 124,
   "id": "0cf4bf7c",
   "metadata": {},
   "outputs": [],
   "source": [
    "# exp_configs  = [rec for rec in server.db.get_config_for(exp_ids[-1])]\n",
    "\n",
    "# print(\"Database config list ==> \", exp_configs)\n",
    "\n",
    "#  since the configs will be loaded the user can key into client.configs\n",
    "# to use there desired config\n",
    "# client.resume(config_id = client.configs)\n",
    "\n",
    "# print(\"Client configs==>\", client.configs,\"Client configs names\", client.config_names)"
   ]
  }
 ],
 "metadata": {
  "kernelspec": {
   "display_name": "Python 3 (ipykernel)",
   "language": "python",
   "name": "python3"
  },
  "language_info": {
   "codemirror_mode": {
    "name": "ipython",
    "version": 3
   },
   "file_extension": ".py",
   "mimetype": "text/x-python",
   "name": "python",
   "nbconvert_exporter": "python",
   "pygments_lexer": "ipython3",
   "version": "3.9.13"
  }
 },
 "nbformat": 4,
 "nbformat_minor": 5
}
